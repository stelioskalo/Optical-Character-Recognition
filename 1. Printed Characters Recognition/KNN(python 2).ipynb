{
 "cells": [
  {
   "cell_type": "code",
   "execution_count": 17,
   "metadata": {
    "scrolled": true
   },
   "outputs": [
    {
     "data": {
      "image/png": "[encoded data removed]",
      "text/plain": [
       "<Figure size 432x288 with 1 Axes>"
      ]
     },
     "metadata": {
      "needs_background": "light"
     },
     "output_type": "display_data"
    },
    {
     "name": "stdout",
     "output_type": "stream",
     "text": [
      "a\n",
      "\n",
      "[0.97988737 0.98356615 0.98603122 0.97370583 0.98096026]\n",
      "Our model's accuracy score based on the dataset trained is:\n",
      "labels_pred mean:0.980830167754\n",
      "\n",
      "Predicted text from image given: \n",
      " i n a r e g u l a t o r y d o c u m e n t f i l e d w i t h t h e s e c t o d a y a d o b e a n n o u n c e d t h a t c h i e f t e c h n o l o g y o f f i c e r k e v i n l y n c h w o u l d b e t a k i n g h i s l e a v e a s o f t h i s c o m i n g f r i d a y o n m a r c h 1 8 2 o 1 3 k e v i n l y n c h r e s i g n e d f r o m h i s p o s i t i o n a s e x e c u t i v e v i c e p r e s i d e n t c h i e f t e c h n o l o g y o f f i c e r o f a d o b e s y s t e m s i n c o r p o r a t e d e f f e c t i v e m a r c h 2 2 2 o 1 3 t o p u r s u e o t h e r o p p o r t u n i t i e s t h e f i l i n g r e a d s l y n c h w h o c a m e t o t h e c o m p a n y i n 2 o o 5 d u r i n g i t s a c q u i s i t i o n o f m a c r o m e d i a l e d a d o b e s c h a r g e i n t o s o m e o f t h e m o r e c u t t i n g e d g e a r e a s o f t e c h n o l o g y i n c l u d i n g m u l t i s c r e e n c o m p u t i n g c l o u d c o m p u t i n g a n d s o c i a l m e d i a f o r a g e s a d o b e h a d b e e n r o o t e d i n t h e w o r k f l o w s o f t h e p r i n t d e s i g n c o m m u n i t y l y n c h w a s r e s p o n s i b l e f o r t h e c o m p a n y s s h i f t i n t o w e b p u b l i s h i n g s t a r t i n g w i t h d r e a m w e a v e r h e a l s o o v e r s a w a d o b e s r e s e a r c h a n d e x p e r i e n c e d e s i g n t e a m s a n d w a s a s a d o b e p u t s i t i n c h a r g e o f s h a p i n g a d o b e s l o n g t e r m t e c h n o l o g y v i s i o n a n d f o c u s i n g i n n o v a t i o n a c r o s s t h e c o m p a n y d u r i n g a t r a n s f o r m a t i v e t i m e r u m o r s a r o u n d t h e w e b h a v e p i n p o i n t e d a p p l e a s l y n c h s n e x t d e s t i n a t i o n a n d i t s n o t a n e n t i r e l y n o n s e n s i c a l r u m o r a d o b e s t r a n s i t i o n t o w e b t e c h n o l o g i e s h a s b e e n n o t h i n g i f n o t p r o f i t a b l e a p p l e s t i l l a g i a n t i n c o n s u m e r h a r d w a r e c o u l d u s e a h e l p i n g h a n d w h e n i t c o m e s t o m u l t i s c r e e n f l u i d i t y s o c i a l m e d i a a n d w e b b a s e d s o f t w a r e \n"
     ]
    }
   ],
   "source": [
    "#To support both python 2 and python 3\n",
    "from __future__ import division, print_function, unicode_literals\n",
    "\n",
    "# Necessary import for the programm to run smoothly\n",
    "import numpy as np\n",
    "import os\n",
    "from matplotlib.image import imread\n",
    "from sklearn.model_selection import train_test_split\n",
    "from sklearn.neighbors import KNeighborsClassifier\n",
    "from sklearn.metrics import accuracy_score\n",
    "from sklearn.model_selection import cross_val_score\n",
    "from sklearn.model_selection import GridSearchCV\n",
    "from sklearn.model_selection import cross_val_predict\n",
    "\n",
    "# to make this notebook's output stable across runs\n",
    "np.random.seed(42)\n",
    "\n",
    "# To plot figures\n",
    "%matplotlib inline\n",
    "import matplotlib as mpl\n",
    "import matplotlib.pyplot as plt\n",
    "mpl.rc('axes', labelsize=14)\n",
    "mpl.rc('xtick', labelsize=12)\n",
    "\n",
    "#folder_string used to label our data\n",
    "folder_string = '123456789abcdefghijklmnopqrstuvwxyzabcdefghijklmnopqrstuvwxyz'\n",
    "#images and labels arrays are used to store the images and their labels\n",
    "images = []\n",
    "labels = []\n",
    "#initialising page variable with the image adobe.png\n",
    "page = imread('ocr/testing/adobe.png')\n",
    "\n",
    "#for loops in order to populate both arrays (images and labels) with all the images and labeling them correctly,\n",
    "#thus creating our dataset and allowing us to fit it to our KNN classifier.\n",
    "for x in folder_string:\n",
    "    folder_path = \"type/\" + x\n",
    "    filenames = os.listdir(folder_path)\n",
    "    for label in filenames:\n",
    "        path = \"type/\" + x + \"/\" + label\n",
    "        img = imread(path)\n",
    "        images.append(img)\n",
    "        labels.append(x)\n",
    "\n",
    "#converting images and labels arrays to numpy arrays\n",
    "images = np.array(images)\n",
    "labels = np.array(labels)\n",
    "samples, x, y = images.shape\n",
    "#reshaping images array from 3 dimensions to 2.\n",
    "images = images.reshape((samples, x*y))\n",
    "\n",
    "#splitting the dataset to training and testing. 80% of data will be used for training and 20% will be used for testing\n",
    "images_train, images_test, labels_train, labels_test = train_test_split(images, labels, test_size=0.2, random_state=1, stratify=labels)\n",
    "\n",
    "some_letter = images_train[363]\n",
    "some_letter_image = some_letter.reshape(20, 20)\n",
    "plt.imshow(some_letter_image, cmap = mpl.cm.binary,\n",
    "           interpolation=\"nearest\")\n",
    "plt.axis(\"off\")\n",
    "plt.show()\n",
    "\n",
    "print(labels_train[363])\n",
    "print(\"\")\n",
    "\n",
    "#defining an array that will hold the adobe.png image\n",
    "pagearray = []\n",
    "\n",
    "#method that will change the storage of each character and remove the text after the '_' so the images can be stored storted.\n",
    "def onlyname(img):\n",
    "    image = img.split('_')\n",
    "    outputimage = int(image[0])\n",
    "    return outputimage\n",
    "\n",
    "#defyning the path were all the characters extracted from the adobe.png image are\n",
    "listpath = os.listdir('textchars')\n",
    "#applying the onlyname method on every image file name\n",
    "listpath = map(onlyname, listpath)\n",
    "#sorting the character images by filename\n",
    "listpath.sort()\n",
    "\n",
    "#for loop that will iterate through all image paths and insert them inside the pagearray array that will hold all the\n",
    "#characters of the text\n",
    "for i in listpath:\n",
    "    path = \"textchars/\" + str(i) + \"_snippet.png\"\n",
    "    img = imread(path)\n",
    "    img = np.array(img)\n",
    "    pagearray.append(img)\n",
    "#Convert pagearray array to numpy array    \n",
    "pagearray = np.array(pagearray)\n",
    "#reshaping pagearray from 3d to 2d\n",
    "samples, x, y = pagearray.shape\n",
    "pagearray = pagearray.reshape((samples, x*y))\n",
    "#Defyinin our KNN classifier, and specifying neighbours\n",
    "knn_clf = KNeighborsClassifier(n_jobs=-1, weights='distance', n_neighbors=1)\n",
    "knn_clf.fit(images_train, labels_train)\n",
    "#fit our classifier with the training data\n",
    "labels_pred = cross_val_score(knn_clf, images, labels, cv=5)\n",
    "#testing our classifier and printing out accuracy score\n",
    "print(labels_pred)\n",
    "print(\"Our model's accuracy score based on the dataset trained is:\")\n",
    "print('labels_pred mean:{}'.format(np.mean(labels_pred)))\n",
    "\n",
    "\n",
    "#predicting the pagearray\n",
    "image_pred = knn_clf.predict(pagearray)\n",
    "print(\"\")\n",
    "print(\"Predicted text from image given: \")\n",
    "prediction = \" \"\n",
    "#printing out all predictions made for our adobe.png image.\n",
    "for character in range(len(pagearray)):\n",
    "    prediction += image_pred[character] + \" \"\n",
    "print(prediction)\n"
   ]
  },
  {
   "cell_type": "markdown",
   "metadata": {},
   "source": []
  }
 ],
 "metadata": {
  "kernelspec": {
   "display_name": "Python 2",
   "language": "python",
   "name": "python2"
  },
  "language_info": {
   "codemirror_mode": {
    "name": "ipython",
    "version": 2
   },
   "file_extension": ".py",
   "mimetype": "text/x-python",
   "name": "python",
   "nbconvert_exporter": "python",
   "pygments_lexer": "ipython2",
   "version": "2.7.15"
  }
 },
 "nbformat": 4,
 "nbformat_minor": 2
}
