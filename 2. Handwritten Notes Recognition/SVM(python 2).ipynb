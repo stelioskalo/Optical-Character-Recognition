{
 "cells": [
  {
   "cell_type": "code",
   "execution_count": 1,
   "metadata": {},
   "outputs": [
    {
     "data": {
      "image/png": "[encoded data removed]",
      "text/plain": [
       "<Figure size 432x288 with 1 Axes>"
      ]
     },
     "metadata": {
      "needs_background": "light"
     },
     "output_type": "display_data"
    },
    {
     "name": "stdout",
     "output_type": "stream",
     "text": [
      "n\n",
      "\n",
      "0.7096153846153846\n"
     ]
    }
   ],
   "source": [
    "#To support both python 2 and python 3\n",
    "from __future__ import division, print_function, unicode_literals\n",
    "\n",
    "# Necessary import for the programm to run smoothly\n",
    "import numpy as np\n",
    "import os\n",
    "from sklearn.model_selection import train_test_split\n",
    "from matplotlib.image import imread\n",
    "import pandas as pd\n",
    "from sklearn.neighbors import KNeighborsClassifier\n",
    "from sklearn.metrics import accuracy_score\n",
    "from sklearn.model_selection import cross_val_score\n",
    "from sklearn import svm\n",
    "\n",
    "#Load our data from the CSV file\n",
    "data = pd.read_csv(\"letters-train-SVM.csv\")\n",
    "\n",
    "#arrays to store rotated images\n",
    "letters_train = []\n",
    "letters_test = []\n",
    "#Load our data into images array and the labels to labels array\n",
    "images = data.values[:,1:]\n",
    "labels = data.values[:,0]\n",
    "\n",
    "#Split the dataset to training and testing\n",
    "images_train, images_test, labels_train, labels_test = train_test_split(images, labels, test_size=0.2, random_state=1, stratify=labels) # change this split however you want\n",
    "\n",
    "#Reshape the images and append them to img_train and img_test\n",
    "img_train = []\n",
    "for i in range(len(images_train)):\n",
    "    img_train.append(images_train[i].reshape(28,28))\n",
    "img_test = []\n",
    "for i in range(len(images_test)):\n",
    "    img_test.append(images_test[i].reshape(28,28))\n",
    "\n",
    "h = 27\n",
    "w = 27\n",
    "\n",
    "#Rotate images so they will be straight and add them to letters_train ad letters_test respectivelly\n",
    "for x in range(len(img_train)):\n",
    "    img = img_train[x]\n",
    "    empty_img = np.zeros([h,w], dtype=np.uint8)\n",
    "    for i in range(h):\n",
    "        for j in range(w):\n",
    "            empty_img[i,j] = img[j,i]\n",
    "            empty_img = empty_img[0:h,0:w]\n",
    "    letters_train.append(empty_img)\n",
    "    \n",
    "for x in range(len(img_test)):\n",
    "    img = img_test[x]\n",
    "    empty_img = np.zeros([h,w], dtype=np.uint8)\n",
    "    for i in range(h):\n",
    "        for j in range(w):\n",
    "            empty_img[i,j] = img[j,i]\n",
    "            empty_img = empty_img[0:h,0:w]\n",
    "    letters_test.append(empty_img)\n",
    "    \n",
    "%matplotlib inline\n",
    "import matplotlib as mpl\n",
    "import matplotlib.pyplot as plt\n",
    "mpl.rc('axes', labelsize=14)\n",
    "mpl.rc('xtick', labelsize=12)    \n",
    "\n",
    "#Print an image with its label \n",
    "some_letter = letters_test[2]\n",
    "plt.imshow(some_letter, cmap = mpl.cm.binary,\n",
    "           interpolation=\"nearest\")\n",
    "plt.axis(\"off\")\n",
    "plt.show()\n",
    "print(labels_test[2])\n",
    "print(\"\")\n",
    "\n",
    "#Convert letters_train and labels_train arrays to numpy arrays\n",
    "letters_train = np.array(letters_train)\n",
    "labels_train = np.array(labels_train)\n",
    "samples, x, y = letters_train.shape\n",
    "#reshaping letters_train array from 3 dimensions to 2.\n",
    "letters_train = letters_train.reshape((samples, x*y))\n",
    "\n",
    "#Convert letters_test array to numpy array and reshape from 3d to 2d\n",
    "letters_test = np.array(letters_test)\n",
    "num,k,l = letters_test.shape\n",
    "letters_test = letters_test.reshape((num,k*l))\n",
    "\n",
    "#Initialize the model and fit the dataset into it\n",
    "model = svm.SVC(kernel='linear', C=1, gamma=1) \n",
    "model.fit(letters_train, labels_train)\n",
    "model.score(letters_train, labels_train)\n",
    "#testing our classifier and printing out accuracy score\n",
    "predicted= model.predict(letters_test)\n",
    "print(accuracy_score(labels_test,predicted))"
   ]
  },
  {
   "cell_type": "code",
   "execution_count": null,
   "metadata": {},
   "outputs": [],
   "source": []
  }
 ],
 "metadata": {
  "kernelspec": {
   "display_name": "Python 3",
   "language": "python",
   "name": "python3"
  },
  "language_info": {
   "codemirror_mode": {
    "name": "ipython",
    "version": 3
   },
   "file_extension": ".py",
   "mimetype": "text/x-python",
   "name": "python",
   "nbconvert_exporter": "python",
   "pygments_lexer": "ipython3",
   "version": "3.7.1"
  }
 },
 "nbformat": 4,
 "nbformat_minor": 2
}
